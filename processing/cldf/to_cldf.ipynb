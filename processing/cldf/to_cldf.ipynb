{
 "cells": [
  {
   "cell_type": "markdown",
   "metadata": {},
   "source": [
    "# Convert SegBo data to CLDF"
   ]
  },
  {
   "cell_type": "markdown",
   "metadata": {},
   "source": [
    "## Overview"
   ]
  },
  {
   "cell_type": "markdown",
   "metadata": {},
   "source": [
    "SegBo\n",
    "\n",
    "* https://github.com/segbo-db/segbo\n",
    "* https://github.com/segbo-db/segbo/tree/master/processing\n",
    "* https://github.com/segbo-db/segbo/tree/master/data\n",
    "* https://github.com/segbo-db/segbo/blob/master/data/segbo_with_glottolog.csv\n",
    "\n",
    "\n",
    "CLDF\n",
    "\n",
    "* https://cldf.clld.org/\n",
    "\n",
    "\n",
    "CLDF workbench\n",
    "\n",
    "* https://github.com/cldf/cldfbench\n",
    "* https://pypi.org/project/cldfbench/\n",
    "* https://github.com/cldf/cldfbench/blob/master/doc/tutorial.md\n",
    "\n",
    "\n",
    "References\n",
    "\n",
    "* Forkel, R.; List, J.-M.; Greenhill, S. J.; Rzymski, C.; Bank, S.; Cysouw, M.; Hammarström, H.; Haspelmath, M.; Kaiping, G. A.; Gray, R. D.: Cross-Linguistic Data Formats, advancing data sharing and re-use in comparative linguistics. Scientific Data 5, 180205 (2018)\n"
   ]
  },
  {
   "cell_type": "markdown",
   "metadata": {},
   "source": [
    "## Install"
   ]
  },
  {
   "cell_type": "markdown",
   "metadata": {},
   "source": [
    "The first step is to install `cldfbench` via the command line (following the instructions for CLDF workbench above).\n",
    "\n",
    "$ pip install cldfbench[excel]\n",
    "\n",
    "This gives us access to `cldfbench` command line tools. For example:"
   ]
  },
  {
   "cell_type": "code",
   "execution_count": 7,
   "metadata": {},
   "outputs": [
    {
     "name": "stdout",
     "output_type": "stream",
     "text": [
      "usage: cldfbench [-h] [--log-level LOG_LEVEL] COMMAND ...\r\n",
      "\r\n",
      "optional arguments:\r\n",
      "  -h, --help            show this help message and exit\r\n",
      "  --log-level LOG_LEVEL\r\n",
      "                        log level [ERROR|WARN|INFO|DEBUG] (default: 20)\r\n",
      "\r\n",
      "available commands:\r\n",
      "  Run \"COMAMND -h\" to get help for a specific command.\r\n",
      "\r\n",
      "  COMMAND\r\n",
      "    catconfig           Write a config file containing the local paths of\r\n",
      "                        clones of Catalogs.\r\n",
      "    catinfo             Display information about catalogs in the system\r\n",
      "    catupdate           Update local clones of catalog repositories.\r\n",
      "    check               Run generic CLDF checks\r\n",
      "    diff                Compute \"essential\" changes of the data in the cldf\r\n",
      "                        directory of a dataset's git repository.\r\n",
      "    download            Run download command of a dataset\r\n",
      "    geojson             Write a geoJSON file, mapping the languages in the\r\n",
      "                        dataset, to the Dataset's directory.\r\n",
      "    info                Display basic info about a dataset\r\n",
      "    ls                  List installed datasets.\r\n",
      "    makecldf            Run makecldf command of a dataset\r\n",
      "    new                 Create a skeleton for a new dataset\r\n",
      "    readme              Write dataset metadata to a README.md in the dataset's\r\n",
      "                        directory.\r\n",
      "    run                 Run a custom dataset command\r\n",
      "    stub                Stub command for experimentation\r\n"
     ]
    }
   ],
   "source": [
    "! cldfbench -h"
   ]
  },
  {
   "cell_type": "markdown",
   "metadata": {},
   "source": [
    "For help on each subcommand, simply run:"
   ]
  },
  {
   "cell_type": "code",
   "execution_count": 9,
   "metadata": {},
   "outputs": [
    {
     "name": "stdout",
     "output_type": "stream",
     "text": [
      "usage: cldfbench new [-h] [--template {cldfbench}] [--out OUT]\r\n",
      "\r\n",
      "Create a skeleton for a new dataset\r\n",
      "\r\n",
      "optional arguments:\r\n",
      "  -h, --help            show this help message and exit\r\n",
      "  --template {cldfbench}\r\n",
      "                        Template type (default: cldfbench)\r\n",
      "  --out OUT             Directory in which to create the skeleton (default: .)\r\n"
     ]
    }
   ],
   "source": [
    "! cldfbench new -h"
   ]
  },
  {
   "cell_type": "markdown",
   "metadata": {},
   "source": [
    "We will create a new CLDF data set."
   ]
  },
  {
   "cell_type": "code",
   "execution_count": null,
   "metadata": {},
   "outputs": [
    {
     "name": "stdout",
     "output_type": "stream",
     "text": [
      "id: "
     ]
    }
   ],
   "source": [
    "! cldfbench new"
   ]
  },
  {
   "cell_type": "code",
   "execution_count": null,
   "metadata": {},
   "outputs": [],
   "source": []
  }
 ],
 "metadata": {
  "kernelspec": {
   "display_name": "Python 3",
   "language": "python",
   "name": "python3"
  },
  "language_info": {
   "codemirror_mode": {
    "name": "ipython",
    "version": 3
   },
   "file_extension": ".py",
   "mimetype": "text/x-python",
   "name": "python",
   "nbconvert_exporter": "python",
   "pygments_lexer": "ipython3",
   "version": "3.7.7"
  }
 },
 "nbformat": 4,
 "nbformat_minor": 4
}
